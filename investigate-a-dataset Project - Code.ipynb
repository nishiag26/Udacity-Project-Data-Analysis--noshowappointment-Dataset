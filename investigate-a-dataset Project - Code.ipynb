{
 "cells": [
  {
   "cell_type": "markdown",
   "metadata": {},
   "source": [
    "\n",
    "\n",
    "# Project: Noshowappointment Data Analysis\n",
    "\n",
    "### Python Code"
   ]
  },
  {
   "cell_type": "markdown",
   "metadata": {},
   "source": [
    "#### Import the libraries used"
   ]
  },
  {
   "cell_type": "code",
   "execution_count": 2,
   "metadata": {},
   "outputs": [],
   "source": [
    "import pandas as pd\n",
    "import numpy as np\n",
    "from datetime import date\n",
    "import matplotlib.pyplot as plt\n",
    "import seaborn as sns\n",
    "%matplotlib inline"
   ]
  },
  {
   "cell_type": "code",
   "execution_count": 3,
   "metadata": {},
   "outputs": [
    {
     "data": {
      "text/html": [
       "<div>\n",
       "<style scoped>\n",
       "    .dataframe tbody tr th:only-of-type {\n",
       "        vertical-align: middle;\n",
       "    }\n",
       "\n",
       "    .dataframe tbody tr th {\n",
       "        vertical-align: top;\n",
       "    }\n",
       "\n",
       "    .dataframe thead th {\n",
       "        text-align: right;\n",
       "    }\n",
       "</style>\n",
       "<table border=\"1\" class=\"dataframe\">\n",
       "  <thead>\n",
       "    <tr style=\"text-align: right;\">\n",
       "      <th></th>\n",
       "      <th>PatientId</th>\n",
       "      <th>AppointmentID</th>\n",
       "      <th>Gender</th>\n",
       "      <th>ScheduledDay</th>\n",
       "      <th>AppointmentDay</th>\n",
       "      <th>Age</th>\n",
       "      <th>Neighbourhood</th>\n",
       "      <th>Scholarship</th>\n",
       "      <th>Hipertension</th>\n",
       "      <th>Diabetes</th>\n",
       "      <th>Alcoholism</th>\n",
       "      <th>Handcap</th>\n",
       "      <th>SMS_received</th>\n",
       "      <th>No-show</th>\n",
       "    </tr>\n",
       "  </thead>\n",
       "  <tbody>\n",
       "    <tr>\n",
       "      <td>0</td>\n",
       "      <td>2.987250e+13</td>\n",
       "      <td>5642903</td>\n",
       "      <td>F</td>\n",
       "      <td>2016-04-29T18:38:08Z</td>\n",
       "      <td>2016-04-29T00:00:00Z</td>\n",
       "      <td>62</td>\n",
       "      <td>JARDIM DA PENHA</td>\n",
       "      <td>0</td>\n",
       "      <td>1</td>\n",
       "      <td>0</td>\n",
       "      <td>0</td>\n",
       "      <td>0</td>\n",
       "      <td>0</td>\n",
       "      <td>No</td>\n",
       "    </tr>\n",
       "    <tr>\n",
       "      <td>1</td>\n",
       "      <td>5.589978e+14</td>\n",
       "      <td>5642503</td>\n",
       "      <td>M</td>\n",
       "      <td>2016-04-29T16:08:27Z</td>\n",
       "      <td>2016-04-29T00:00:00Z</td>\n",
       "      <td>56</td>\n",
       "      <td>JARDIM DA PENHA</td>\n",
       "      <td>0</td>\n",
       "      <td>0</td>\n",
       "      <td>0</td>\n",
       "      <td>0</td>\n",
       "      <td>0</td>\n",
       "      <td>0</td>\n",
       "      <td>No</td>\n",
       "    </tr>\n",
       "    <tr>\n",
       "      <td>2</td>\n",
       "      <td>4.262962e+12</td>\n",
       "      <td>5642549</td>\n",
       "      <td>F</td>\n",
       "      <td>2016-04-29T16:19:04Z</td>\n",
       "      <td>2016-04-29T00:00:00Z</td>\n",
       "      <td>62</td>\n",
       "      <td>MATA DA PRAIA</td>\n",
       "      <td>0</td>\n",
       "      <td>0</td>\n",
       "      <td>0</td>\n",
       "      <td>0</td>\n",
       "      <td>0</td>\n",
       "      <td>0</td>\n",
       "      <td>No</td>\n",
       "    </tr>\n",
       "    <tr>\n",
       "      <td>3</td>\n",
       "      <td>8.679512e+11</td>\n",
       "      <td>5642828</td>\n",
       "      <td>F</td>\n",
       "      <td>2016-04-29T17:29:31Z</td>\n",
       "      <td>2016-04-29T00:00:00Z</td>\n",
       "      <td>8</td>\n",
       "      <td>PONTAL DE CAMBURI</td>\n",
       "      <td>0</td>\n",
       "      <td>0</td>\n",
       "      <td>0</td>\n",
       "      <td>0</td>\n",
       "      <td>0</td>\n",
       "      <td>0</td>\n",
       "      <td>No</td>\n",
       "    </tr>\n",
       "    <tr>\n",
       "      <td>4</td>\n",
       "      <td>8.841186e+12</td>\n",
       "      <td>5642494</td>\n",
       "      <td>F</td>\n",
       "      <td>2016-04-29T16:07:23Z</td>\n",
       "      <td>2016-04-29T00:00:00Z</td>\n",
       "      <td>56</td>\n",
       "      <td>JARDIM DA PENHA</td>\n",
       "      <td>0</td>\n",
       "      <td>1</td>\n",
       "      <td>1</td>\n",
       "      <td>0</td>\n",
       "      <td>0</td>\n",
       "      <td>0</td>\n",
       "      <td>No</td>\n",
       "    </tr>\n",
       "  </tbody>\n",
       "</table>\n",
       "</div>"
      ],
      "text/plain": [
       "      PatientId  AppointmentID Gender          ScheduledDay  \\\n",
       "0  2.987250e+13        5642903      F  2016-04-29T18:38:08Z   \n",
       "1  5.589978e+14        5642503      M  2016-04-29T16:08:27Z   \n",
       "2  4.262962e+12        5642549      F  2016-04-29T16:19:04Z   \n",
       "3  8.679512e+11        5642828      F  2016-04-29T17:29:31Z   \n",
       "4  8.841186e+12        5642494      F  2016-04-29T16:07:23Z   \n",
       "\n",
       "         AppointmentDay  Age      Neighbourhood  Scholarship  Hipertension  \\\n",
       "0  2016-04-29T00:00:00Z   62    JARDIM DA PENHA            0             1   \n",
       "1  2016-04-29T00:00:00Z   56    JARDIM DA PENHA            0             0   \n",
       "2  2016-04-29T00:00:00Z   62      MATA DA PRAIA            0             0   \n",
       "3  2016-04-29T00:00:00Z    8  PONTAL DE CAMBURI            0             0   \n",
       "4  2016-04-29T00:00:00Z   56    JARDIM DA PENHA            0             1   \n",
       "\n",
       "   Diabetes  Alcoholism  Handcap  SMS_received No-show  \n",
       "0         0           0        0             0      No  \n",
       "1         0           0        0             0      No  \n",
       "2         0           0        0             0      No  \n",
       "3         0           0        0             0      No  \n",
       "4         1           0        0             0      No  "
      ]
     },
     "execution_count": 3,
     "metadata": {},
     "output_type": "execute_result"
    }
   ],
   "source": [
    "df=pd.read_csv('noshowappointments.csv')\n",
    "df.head()"
   ]
  },
  {
   "cell_type": "markdown",
   "metadata": {},
   "source": [
    "> Reading the information about the dataset like the number of columns,rows,datatypes of the columns and null values if any."
   ]
  },
  {
   "cell_type": "code",
   "execution_count": 4,
   "metadata": {},
   "outputs": [
    {
     "name": "stdout",
     "output_type": "stream",
     "text": [
      "<class 'pandas.core.frame.DataFrame'>\n",
      "RangeIndex: 110527 entries, 0 to 110526\n",
      "Data columns (total 14 columns):\n",
      "PatientId         110527 non-null float64\n",
      "AppointmentID     110527 non-null int64\n",
      "Gender            110527 non-null object\n",
      "ScheduledDay      110527 non-null object\n",
      "AppointmentDay    110527 non-null object\n",
      "Age               110527 non-null int64\n",
      "Neighbourhood     110527 non-null object\n",
      "Scholarship       110527 non-null int64\n",
      "Hipertension      110527 non-null int64\n",
      "Diabetes          110527 non-null int64\n",
      "Alcoholism        110527 non-null int64\n",
      "Handcap           110527 non-null int64\n",
      "SMS_received      110527 non-null int64\n",
      "No-show           110527 non-null object\n",
      "dtypes: float64(1), int64(8), object(5)\n",
      "memory usage: 11.8+ MB\n"
     ]
    }
   ],
   "source": [
    "df.info()"
   ]
  },
  {
   "cell_type": "markdown",
   "metadata": {},
   "source": [
    "### Data Cleaning \n",
    "#### Converting the columns ScheduledDay, AppointmentDay to datettime types"
   ]
  },
  {
   "cell_type": "code",
   "execution_count": 5,
   "metadata": {},
   "outputs": [],
   "source": [
    "df['ScheduledDay']=pd.to_datetime(df['ScheduledDay'])\n",
    "df['AppointmentDay']=pd.to_datetime(df['AppointmentDay'])"
   ]
  },
  {
   "cell_type": "markdown",
   "metadata": {},
   "source": [
    "#### Columns ScheduledDay,AppointmentDay should be separated with date and time in separate columns."
   ]
  },
  {
   "cell_type": "code",
   "execution_count": 6,
   "metadata": {},
   "outputs": [],
   "source": [
    "\n",
    "df['Scheduled_Date'] = pd.to_datetime(df['ScheduledDay']).dt.date\n",
    "df['Scheduled_Time'] = pd.to_datetime(df['ScheduledDay']).dt.time\n",
    "df['Appointment_Date'] = pd.to_datetime(df['AppointmentDay']).dt.date\n",
    "df['Appointment_Time'] = pd.to_datetime(df['AppointmentDay']).dt.time\n",
    "df.drop(['ScheduledDay','AppointmentDay'],inplace=True,axis=1)"
   ]
  },
  {
   "cell_type": "markdown",
   "metadata": {},
   "source": [
    "#### Cleaning of Age Column : few negative and 0 values in Age are dropped"
   ]
  },
  {
   "cell_type": "code",
   "execution_count": 7,
   "metadata": {},
   "outputs": [],
   "source": [
    "val=df[df['Age']<=0].index\n",
    "df.drop(val,inplace=True)"
   ]
  },
  {
   "cell_type": "markdown",
   "metadata": {},
   "source": [
    "#### Renaming of the columns to increase the quality of the code"
   ]
  },
  {
   "cell_type": "code",
   "execution_count": 8,
   "metadata": {},
   "outputs": [],
   "source": [
    "df.rename(columns={'Handcap':'Handicap','Hipertension':'Hypertension','No-show':'No_show'},inplace=True)\n"
   ]
  },
  {
   "cell_type": "markdown",
   "metadata": {},
   "source": [
    "#### PatientId is in float so need to be changed to int"
   ]
  },
  {
   "cell_type": "code",
   "execution_count": 9,
   "metadata": {},
   "outputs": [],
   "source": [
    "# Convert PatientId from Float to Integer\n",
    "df['PatientId'] = df['PatientId'].astype('int64')"
   ]
  },
  {
   "cell_type": "markdown",
   "metadata": {},
   "source": [
    "#### Dropping the rows with awaited days in negative ( as the Scheduled _Date should always be before the Appointment_Date)"
   ]
  },
  {
   "cell_type": "code",
   "execution_count": 10,
   "metadata": {},
   "outputs": [],
   "source": [
    "df['awaited_days'] = (df['Appointment_Date']-df['Scheduled_Date']).dt.days\n",
    "del_ind=df[df['awaited_days']<0].index\n",
    "df.drop(del_ind,inplace=True)"
   ]
  },
  {
   "cell_type": "markdown",
   "metadata": {},
   "source": [
    "#### Changing the mapping of the column 'No_show' for Yes-> No and No-> Yes (as given in the dataset directions)"
   ]
  },
  {
   "cell_type": "code",
   "execution_count": 11,
   "metadata": {},
   "outputs": [
    {
     "data": {
      "text/html": [
       "<div>\n",
       "<style scoped>\n",
       "    .dataframe tbody tr th:only-of-type {\n",
       "        vertical-align: middle;\n",
       "    }\n",
       "\n",
       "    .dataframe tbody tr th {\n",
       "        vertical-align: top;\n",
       "    }\n",
       "\n",
       "    .dataframe thead th {\n",
       "        text-align: right;\n",
       "    }\n",
       "</style>\n",
       "<table border=\"1\" class=\"dataframe\">\n",
       "  <thead>\n",
       "    <tr style=\"text-align: right;\">\n",
       "      <th></th>\n",
       "      <th>PatientId</th>\n",
       "      <th>AppointmentID</th>\n",
       "      <th>Gender</th>\n",
       "      <th>Age</th>\n",
       "      <th>Neighbourhood</th>\n",
       "      <th>Scholarship</th>\n",
       "      <th>Hypertension</th>\n",
       "      <th>Diabetes</th>\n",
       "      <th>Alcoholism</th>\n",
       "      <th>Handicap</th>\n",
       "      <th>SMS_received</th>\n",
       "      <th>No_show</th>\n",
       "      <th>Scheduled_Date</th>\n",
       "      <th>Scheduled_Time</th>\n",
       "      <th>Appointment_Date</th>\n",
       "      <th>Appointment_Time</th>\n",
       "      <th>awaited_days</th>\n",
       "    </tr>\n",
       "  </thead>\n",
       "  <tbody>\n",
       "    <tr>\n",
       "      <td>0</td>\n",
       "      <td>29872499824296</td>\n",
       "      <td>5642903</td>\n",
       "      <td>F</td>\n",
       "      <td>62</td>\n",
       "      <td>JARDIM DA PENHA</td>\n",
       "      <td>0</td>\n",
       "      <td>1</td>\n",
       "      <td>0</td>\n",
       "      <td>0</td>\n",
       "      <td>0</td>\n",
       "      <td>0</td>\n",
       "      <td>Yes</td>\n",
       "      <td>2016-04-29</td>\n",
       "      <td>18:38:08</td>\n",
       "      <td>2016-04-29</td>\n",
       "      <td>00:00:00</td>\n",
       "      <td>0</td>\n",
       "    </tr>\n",
       "    <tr>\n",
       "      <td>1</td>\n",
       "      <td>558997776694438</td>\n",
       "      <td>5642503</td>\n",
       "      <td>M</td>\n",
       "      <td>56</td>\n",
       "      <td>JARDIM DA PENHA</td>\n",
       "      <td>0</td>\n",
       "      <td>0</td>\n",
       "      <td>0</td>\n",
       "      <td>0</td>\n",
       "      <td>0</td>\n",
       "      <td>0</td>\n",
       "      <td>Yes</td>\n",
       "      <td>2016-04-29</td>\n",
       "      <td>16:08:27</td>\n",
       "      <td>2016-04-29</td>\n",
       "      <td>00:00:00</td>\n",
       "      <td>0</td>\n",
       "    </tr>\n",
       "    <tr>\n",
       "      <td>2</td>\n",
       "      <td>4262962299951</td>\n",
       "      <td>5642549</td>\n",
       "      <td>F</td>\n",
       "      <td>62</td>\n",
       "      <td>MATA DA PRAIA</td>\n",
       "      <td>0</td>\n",
       "      <td>0</td>\n",
       "      <td>0</td>\n",
       "      <td>0</td>\n",
       "      <td>0</td>\n",
       "      <td>0</td>\n",
       "      <td>Yes</td>\n",
       "      <td>2016-04-29</td>\n",
       "      <td>16:19:04</td>\n",
       "      <td>2016-04-29</td>\n",
       "      <td>00:00:00</td>\n",
       "      <td>0</td>\n",
       "    </tr>\n",
       "    <tr>\n",
       "      <td>3</td>\n",
       "      <td>867951213174</td>\n",
       "      <td>5642828</td>\n",
       "      <td>F</td>\n",
       "      <td>8</td>\n",
       "      <td>PONTAL DE CAMBURI</td>\n",
       "      <td>0</td>\n",
       "      <td>0</td>\n",
       "      <td>0</td>\n",
       "      <td>0</td>\n",
       "      <td>0</td>\n",
       "      <td>0</td>\n",
       "      <td>Yes</td>\n",
       "      <td>2016-04-29</td>\n",
       "      <td>17:29:31</td>\n",
       "      <td>2016-04-29</td>\n",
       "      <td>00:00:00</td>\n",
       "      <td>0</td>\n",
       "    </tr>\n",
       "    <tr>\n",
       "      <td>4</td>\n",
       "      <td>8841186448183</td>\n",
       "      <td>5642494</td>\n",
       "      <td>F</td>\n",
       "      <td>56</td>\n",
       "      <td>JARDIM DA PENHA</td>\n",
       "      <td>0</td>\n",
       "      <td>1</td>\n",
       "      <td>1</td>\n",
       "      <td>0</td>\n",
       "      <td>0</td>\n",
       "      <td>0</td>\n",
       "      <td>Yes</td>\n",
       "      <td>2016-04-29</td>\n",
       "      <td>16:07:23</td>\n",
       "      <td>2016-04-29</td>\n",
       "      <td>00:00:00</td>\n",
       "      <td>0</td>\n",
       "    </tr>\n",
       "  </tbody>\n",
       "</table>\n",
       "</div>"
      ],
      "text/plain": [
       "         PatientId  AppointmentID Gender  Age      Neighbourhood  Scholarship  \\\n",
       "0   29872499824296        5642903      F   62    JARDIM DA PENHA            0   \n",
       "1  558997776694438        5642503      M   56    JARDIM DA PENHA            0   \n",
       "2    4262962299951        5642549      F   62      MATA DA PRAIA            0   \n",
       "3     867951213174        5642828      F    8  PONTAL DE CAMBURI            0   \n",
       "4    8841186448183        5642494      F   56    JARDIM DA PENHA            0   \n",
       "\n",
       "   Hypertension  Diabetes  Alcoholism  Handicap  SMS_received No_show  \\\n",
       "0             1         0           0         0             0     Yes   \n",
       "1             0         0           0         0             0     Yes   \n",
       "2             0         0           0         0             0     Yes   \n",
       "3             0         0           0         0             0     Yes   \n",
       "4             1         1           0         0             0     Yes   \n",
       "\n",
       "  Scheduled_Date Scheduled_Time Appointment_Date Appointment_Time  \\\n",
       "0     2016-04-29       18:38:08       2016-04-29         00:00:00   \n",
       "1     2016-04-29       16:08:27       2016-04-29         00:00:00   \n",
       "2     2016-04-29       16:19:04       2016-04-29         00:00:00   \n",
       "3     2016-04-29       17:29:31       2016-04-29         00:00:00   \n",
       "4     2016-04-29       16:07:23       2016-04-29         00:00:00   \n",
       "\n",
       "   awaited_days  \n",
       "0             0  \n",
       "1             0  \n",
       "2             0  \n",
       "3             0  \n",
       "4             0  "
      ]
     },
     "execution_count": 11,
     "metadata": {},
     "output_type": "execute_result"
    }
   ],
   "source": [
    "df_map = {'Yes': 'No', 'No': 'Yes'}\n",
    "df['No_show'] = df['No_show'].map(df_map)\n",
    "df.head()"
   ]
  },
  {
   "cell_type": "markdown",
   "metadata": {},
   "source": [
    "### Validating the dataset after cleaning"
   ]
  },
  {
   "cell_type": "code",
   "execution_count": 12,
   "metadata": {},
   "outputs": [
    {
     "name": "stdout",
     "output_type": "stream",
     "text": [
      "<class 'pandas.core.frame.DataFrame'>\n",
      "Int64Index: 106982 entries, 0 to 110526\n",
      "Data columns (total 17 columns):\n",
      "PatientId           106982 non-null int64\n",
      "AppointmentID       106982 non-null int64\n",
      "Gender              106982 non-null object\n",
      "Age                 106982 non-null int64\n",
      "Neighbourhood       106982 non-null object\n",
      "Scholarship         106982 non-null int64\n",
      "Hypertension        106982 non-null int64\n",
      "Diabetes            106982 non-null int64\n",
      "Alcoholism          106982 non-null int64\n",
      "Handicap            106982 non-null int64\n",
      "SMS_received        106982 non-null int64\n",
      "No_show             106982 non-null object\n",
      "Scheduled_Date      106982 non-null object\n",
      "Scheduled_Time      106982 non-null object\n",
      "Appointment_Date    106982 non-null object\n",
      "Appointment_Time    106982 non-null object\n",
      "awaited_days        106982 non-null int64\n",
      "dtypes: int64(10), object(7)\n",
      "memory usage: 14.7+ MB\n"
     ]
    }
   ],
   "source": [
    "df.info()"
   ]
  },
  {
   "cell_type": "code",
   "execution_count": 13,
   "metadata": {
    "scrolled": true
   },
   "outputs": [
    {
     "data": {
      "text/html": [
       "<div>\n",
       "<style scoped>\n",
       "    .dataframe tbody tr th:only-of-type {\n",
       "        vertical-align: middle;\n",
       "    }\n",
       "\n",
       "    .dataframe tbody tr th {\n",
       "        vertical-align: top;\n",
       "    }\n",
       "\n",
       "    .dataframe thead th {\n",
       "        text-align: right;\n",
       "    }\n",
       "</style>\n",
       "<table border=\"1\" class=\"dataframe\">\n",
       "  <thead>\n",
       "    <tr style=\"text-align: right;\">\n",
       "      <th></th>\n",
       "      <th>PatientId</th>\n",
       "      <th>AppointmentID</th>\n",
       "      <th>Gender</th>\n",
       "      <th>Age</th>\n",
       "      <th>Neighbourhood</th>\n",
       "      <th>Scholarship</th>\n",
       "      <th>Hypertension</th>\n",
       "      <th>Diabetes</th>\n",
       "      <th>Alcoholism</th>\n",
       "      <th>Handicap</th>\n",
       "      <th>SMS_received</th>\n",
       "      <th>No_show</th>\n",
       "      <th>Scheduled_Date</th>\n",
       "      <th>Scheduled_Time</th>\n",
       "      <th>Appointment_Date</th>\n",
       "      <th>Appointment_Time</th>\n",
       "      <th>awaited_days</th>\n",
       "    </tr>\n",
       "  </thead>\n",
       "  <tbody>\n",
       "    <tr>\n",
       "      <td>0</td>\n",
       "      <td>29872499824296</td>\n",
       "      <td>5642903</td>\n",
       "      <td>F</td>\n",
       "      <td>62</td>\n",
       "      <td>JARDIM DA PENHA</td>\n",
       "      <td>0</td>\n",
       "      <td>1</td>\n",
       "      <td>0</td>\n",
       "      <td>0</td>\n",
       "      <td>0</td>\n",
       "      <td>0</td>\n",
       "      <td>Yes</td>\n",
       "      <td>2016-04-29</td>\n",
       "      <td>18:38:08</td>\n",
       "      <td>2016-04-29</td>\n",
       "      <td>00:00:00</td>\n",
       "      <td>0</td>\n",
       "    </tr>\n",
       "    <tr>\n",
       "      <td>1</td>\n",
       "      <td>558997776694438</td>\n",
       "      <td>5642503</td>\n",
       "      <td>M</td>\n",
       "      <td>56</td>\n",
       "      <td>JARDIM DA PENHA</td>\n",
       "      <td>0</td>\n",
       "      <td>0</td>\n",
       "      <td>0</td>\n",
       "      <td>0</td>\n",
       "      <td>0</td>\n",
       "      <td>0</td>\n",
       "      <td>Yes</td>\n",
       "      <td>2016-04-29</td>\n",
       "      <td>16:08:27</td>\n",
       "      <td>2016-04-29</td>\n",
       "      <td>00:00:00</td>\n",
       "      <td>0</td>\n",
       "    </tr>\n",
       "    <tr>\n",
       "      <td>2</td>\n",
       "      <td>4262962299951</td>\n",
       "      <td>5642549</td>\n",
       "      <td>F</td>\n",
       "      <td>62</td>\n",
       "      <td>MATA DA PRAIA</td>\n",
       "      <td>0</td>\n",
       "      <td>0</td>\n",
       "      <td>0</td>\n",
       "      <td>0</td>\n",
       "      <td>0</td>\n",
       "      <td>0</td>\n",
       "      <td>Yes</td>\n",
       "      <td>2016-04-29</td>\n",
       "      <td>16:19:04</td>\n",
       "      <td>2016-04-29</td>\n",
       "      <td>00:00:00</td>\n",
       "      <td>0</td>\n",
       "    </tr>\n",
       "    <tr>\n",
       "      <td>3</td>\n",
       "      <td>867951213174</td>\n",
       "      <td>5642828</td>\n",
       "      <td>F</td>\n",
       "      <td>8</td>\n",
       "      <td>PONTAL DE CAMBURI</td>\n",
       "      <td>0</td>\n",
       "      <td>0</td>\n",
       "      <td>0</td>\n",
       "      <td>0</td>\n",
       "      <td>0</td>\n",
       "      <td>0</td>\n",
       "      <td>Yes</td>\n",
       "      <td>2016-04-29</td>\n",
       "      <td>17:29:31</td>\n",
       "      <td>2016-04-29</td>\n",
       "      <td>00:00:00</td>\n",
       "      <td>0</td>\n",
       "    </tr>\n",
       "    <tr>\n",
       "      <td>4</td>\n",
       "      <td>8841186448183</td>\n",
       "      <td>5642494</td>\n",
       "      <td>F</td>\n",
       "      <td>56</td>\n",
       "      <td>JARDIM DA PENHA</td>\n",
       "      <td>0</td>\n",
       "      <td>1</td>\n",
       "      <td>1</td>\n",
       "      <td>0</td>\n",
       "      <td>0</td>\n",
       "      <td>0</td>\n",
       "      <td>Yes</td>\n",
       "      <td>2016-04-29</td>\n",
       "      <td>16:07:23</td>\n",
       "      <td>2016-04-29</td>\n",
       "      <td>00:00:00</td>\n",
       "      <td>0</td>\n",
       "    </tr>\n",
       "  </tbody>\n",
       "</table>\n",
       "</div>"
      ],
      "text/plain": [
       "         PatientId  AppointmentID Gender  Age      Neighbourhood  Scholarship  \\\n",
       "0   29872499824296        5642903      F   62    JARDIM DA PENHA            0   \n",
       "1  558997776694438        5642503      M   56    JARDIM DA PENHA            0   \n",
       "2    4262962299951        5642549      F   62      MATA DA PRAIA            0   \n",
       "3     867951213174        5642828      F    8  PONTAL DE CAMBURI            0   \n",
       "4    8841186448183        5642494      F   56    JARDIM DA PENHA            0   \n",
       "\n",
       "   Hypertension  Diabetes  Alcoholism  Handicap  SMS_received No_show  \\\n",
       "0             1         0           0         0             0     Yes   \n",
       "1             0         0           0         0             0     Yes   \n",
       "2             0         0           0         0             0     Yes   \n",
       "3             0         0           0         0             0     Yes   \n",
       "4             1         1           0         0             0     Yes   \n",
       "\n",
       "  Scheduled_Date Scheduled_Time Appointment_Date Appointment_Time  \\\n",
       "0     2016-04-29       18:38:08       2016-04-29         00:00:00   \n",
       "1     2016-04-29       16:08:27       2016-04-29         00:00:00   \n",
       "2     2016-04-29       16:19:04       2016-04-29         00:00:00   \n",
       "3     2016-04-29       17:29:31       2016-04-29         00:00:00   \n",
       "4     2016-04-29       16:07:23       2016-04-29         00:00:00   \n",
       "\n",
       "   awaited_days  \n",
       "0             0  \n",
       "1             0  \n",
       "2             0  \n",
       "3             0  \n",
       "4             0  "
      ]
     },
     "execution_count": 13,
     "metadata": {},
     "output_type": "execute_result"
    }
   ],
   "source": [
    "df.head()"
   ]
  },
  {
   "cell_type": "markdown",
   "metadata": {},
   "source": [
    "##### Now after trimming and cleaning the data,we will move to the exploration.With the help of statistics and visualisations, will address few questions. By Looking at one variable at a time, and then following it up by looking at relationships between variables.\n",
    "<a id='eda'></a>\n",
    "## Exploratory Data Analysis"
   ]
  },
  {
   "cell_type": "markdown",
   "metadata": {},
   "source": [
    "#### Correlation matrix to see the relationship between variables"
   ]
  },
  {
   "cell_type": "code",
   "execution_count": 21,
   "metadata": {},
   "outputs": [
    {
     "data": {
      "image/png": "[encoded data removed]",
      "text/plain": [
       "<Figure size 432x288 with 2 Axes>"
      ]
     },
     "metadata": {
      "needs_background": "light"
     },
     "output_type": "display_data"
    }
   ],
   "source": [
    "stats_corr=['Age','Scholarship','Hypertension','Diabetes','Alcoholism','Handicap','SMS_received']\n",
    "ax=sns.heatmap(df[stats_corr].corr(),annot=True,fmt='.2f',cmap='rocket_r');\n",
    "bottom, top = ax.get_ylim()\n",
    "ax.set_ylim(bottom + 0.5, top - 0.5);"
   ]
  },
  {
   "cell_type": "markdown",
   "metadata": {},
   "source": [
    "#### Based on the above heatmap, we can say that:\n",
    "> Age and Hypertension are highly correlated and Hypertension and Diabetes are moderately correlated<br>\n",
    ">Age and Diabetes show low correlation"
   ]
  },
  {
   "cell_type": "markdown",
   "metadata": {},
   "source": [
    "### Research Question 1: What is the Showup vs No Showup appointment statistics?"
   ]
  },
  {
   "cell_type": "code",
   "execution_count": 14,
   "metadata": {},
   "outputs": [
    {
     "data": {
      "text/plain": [
       "Yes    85307\n",
       "No     21675\n",
       "Name: No_show, dtype: int64"
      ]
     },
     "execution_count": 14,
     "metadata": {},
     "output_type": "execute_result"
    }
   ],
   "source": [
    "y=df['No_show'].value_counts()\n",
    "y"
   ]
  },
  {
   "cell_type": "code",
   "execution_count": 15,
   "metadata": {},
   "outputs": [
    {
     "data": {
      "image/png": "[encoded data removed]",
      "text/plain": [
       "<Figure size 432x288 with 1 Axes>"
      ]
     },
     "metadata": {
      "needs_background": "light"
     },
     "output_type": "display_data"
    }
   ],
   "source": [
    "ind=['Yes','No']\n",
    "plt.bar(ind,y);\n",
    "plt.xlabel('No-Show');\n",
    "plt.ylabel('No.of Patients');\n",
    "plt.title(\"No-show vs No. of Patients\");"
   ]
  },
  {
   "cell_type": "markdown",
   "metadata": {},
   "source": [
    "> #### Based on the above graph, we can say that:<br>\n",
    "> More number of patients showed up for appointment."
   ]
  },
  {
   "cell_type": "markdown",
   "metadata": {},
   "source": [
    "#### a function to calculate the percentage :"
   ]
  },
  {
   "cell_type": "code",
   "execution_count": 16,
   "metadata": {},
   "outputs": [],
   "source": [
    "def calc_percent(count,total):\n",
    "    return ((count/total)*100)\n",
    "    "
   ]
  },
  {
   "cell_type": "markdown",
   "metadata": {},
   "source": [
    "### Research Question 2: How Scholarship variable affects the No show of the Appointments?"
   ]
  },
  {
   "cell_type": "code",
   "execution_count": 17,
   "metadata": {},
   "outputs": [
    {
     "name": "stdout",
     "output_type": "stream",
     "text": [
      "No. of Patients with scholarship and showed up: 8238\n",
      "No. of Patients without scholarship and showed up: 77069\n"
     ]
    }
   ],
   "source": [
    "#Dataframe of the Patients with scholarship \n",
    "df_scholar=df[df['Scholarship']==1]\n",
    "height=df_scholar['No_show'].value_counts()\n",
    "\n",
    "#Dataframe of the Patients without scholarship \n",
    "df_scholar=df[df['Scholarship']==0]\n",
    "hei=df_scholar['No_show'].value_counts()\n",
    "\n",
    "print(\"No. of Patients with scholarship and showed up: {}\".format(height[0]))\n",
    "print(\"No. of Patients without scholarship and showed up: {}\".format(hei[0]))"
   ]
  },
  {
   "cell_type": "code",
   "execution_count": 18,
   "metadata": {},
   "outputs": [
    {
     "data": {
      "image/png": "[encoded data removed]",
      "text/plain": [
       "<Figure size 432x288 with 1 Axes>"
      ]
     },
     "metadata": {
      "needs_background": "light"
     },
     "output_type": "display_data"
    }
   ],
   "source": [
    "sns.countplot(x='No_show',hue='Scholarship',data=df);"
   ]
  },
  {
   "cell_type": "markdown",
   "metadata": {},
   "source": [
    "> #### Based on the above graph, we can say that:<br>\n",
    ">Patients without scholarship showed up more for the appointment than the patients without scholarship.<br>\n",
    "\n",
    "\n"
   ]
  },
  {
   "cell_type": "markdown",
   "metadata": {},
   "source": [
    "#### Percentage of Patients showup for appointement with or without Scholarship"
   ]
  },
  {
   "cell_type": "code",
   "execution_count": 21,
   "metadata": {},
   "outputs": [
    {
     "name": "stdout",
     "output_type": "stream",
     "text": [
      "Percentage of patients with scholarship and showed up for appointment 76.21426588953649 %\n",
      "Percentage of patients without scholarship and showed up for appointment 80.1357969492477 %\n"
     ]
    }
   ],
   "source": [
    "scholar_count=df['Scholarship'].value_counts()\n",
    "scholar=calc_percent(height[0],scholar_count[1])\n",
    "noscholar=calc_percent(hei[0],scholar_count[0])\n",
    "print(\"Percentage of patients with scholarship and showed up for appointment {} %\".format(scholar))\n",
    "print(\"Percentage of patients without scholarship and showed up for appointment {} %\".format(noscholar))"
   ]
  },
  {
   "cell_type": "markdown",
   "metadata": {},
   "source": [
    "### Research Question3: How 'Age' variable affects the Noshow for an appointment?\n",
    "> For the Solution of the question I have divided the Age Groups as follows:<br>\n",
    ">  Division              AgeGroup<br>\n",
    ">  Child                  [1-17]<br>\n",
    ">  Adult                  [18-60]<br>\n",
    ">  Old                    [61-above]<br>"
   ]
  },
  {
   "cell_type": "code",
   "execution_count": 22,
   "metadata": {},
   "outputs": [],
   "source": [
    "  #Child Dataframe- Age[1-17]\n",
    "child=df[df['Age']<18]\n",
    "child_no=child[child['No_show']=='No']['Age'].value_counts().sum()\n",
    "child_yes=child[child['No_show']=='Yes']['Age'].value_counts().sum()\n",
    "\n",
    "  #Adult Dataframe- Age[18-60]\n",
    "ad=df[(df['Age']>=18) & (df['Age']<=60)]\n",
    "ad_no=ad[ad['No_show']=='No']['Age'].value_counts().sum()\n",
    "ad_yes=ad[ad['No_show']=='Yes']['Age'].value_counts().sum()\n",
    "\n",
    "  #Old Aged Dataframe-  Age[61-above]\n",
    "old=df[df['Age']>60]\n",
    "old_no=old[old['No_show']=='No']['Age'].value_counts().sum()\n",
    "old_yes=old[old['No_show']=='Yes']['Age'].value_counts().sum()"
   ]
  },
  {
   "cell_type": "markdown",
   "metadata": {},
   "source": [
    "#### Visualisation of the affect of Age on Noshow of the Appointment"
   ]
  },
  {
   "cell_type": "code",
   "execution_count": 23,
   "metadata": {},
   "outputs": [
    {
     "name": "stdout",
     "output_type": "stream",
     "text": [
      "Percentage of Adults patients showed up 78.9956138966899%\n",
      "Percentage of Old aged patients showed up 84.79327969232327%\n",
      "Percentage of Child patients showed up 77.52841981626746%\n"
     ]
    },
    {
     "data": {
      "image/png": "[encoded data removed]",
      "text/plain": [
       "<Figure size 1440x1080 with 3 Axes>"
      ]
     },
     "metadata": {
      "needs_background": "light"
     },
     "output_type": "display_data"
    }
   ],
   "source": [
    "fig=plt.figure(figsize=(20,15))\n",
    "plt.subplot(331)\n",
    "plt.bar(x=['No','Yes'],height=[child_no,child_yes])\n",
    "plt.xlabel(\"No Show\")\n",
    "plt.ylabel(\"No. of child[Age: 1-17]\")\n",
    "plt.subplot(332)\n",
    "plt.bar(x=['No','Yes'],height=[ad_no,ad_yes])\n",
    "plt.xlabel(\"No Show\")\n",
    "plt.ylabel(\"No. of child[Age: 18-60]\")\n",
    "plt.subplot(333)\n",
    "plt.bar(x=['No','Yes'],height=[old_no,old_yes])\n",
    "plt.xlabel(\"No Show\")\n",
    "plt.ylabel(\"No. of Old Age[Age-Above 60]\")\n",
    "\n",
    "per_ad= calc_percent(ad_yes,len(ad)) #(ad_yes/len(ad))*100\n",
    "per_old=calc_percent(old_yes,len(old))#(old_yes/len(old))*100\n",
    "per_child=calc_percent(child_yes,len(child))#(child_yes/len(child))*100\n",
    "print(\"Percentage of Adults patients showed up {}%\".format(per_ad))\n",
    "print(\"Percentage of Old aged patients showed up {}%\".format(per_old))\n",
    "print(\"Percentage of Child patients showed up {}%\".format(per_child))"
   ]
  },
  {
   "cell_type": "markdown",
   "metadata": {},
   "source": [
    "> #### Based on the above graph, we can say that:<br>\n",
    ">Adult patients are more as compared to Children and Old aged patients.<br>\n"
   ]
  },
  {
   "cell_type": "markdown",
   "metadata": {},
   "source": [
    "### Research Question4: How the variables 'Hypertension','Diabetes','Alcoholism','Handicap' affect Noshow for an appointment?"
   ]
  },
  {
   "cell_type": "code",
   "execution_count": 24,
   "metadata": {},
   "outputs": [
    {
     "data": {
      "image/png": "[encoded data removed]",
      "text/plain": [
       "<Figure size 720x720 with 4 Axes>"
      ]
     },
     "metadata": {
      "needs_background": "light"
     },
     "output_type": "display_data"
    }
   ],
   "source": [
    "conditions=['Hypertension','Diabetes','Alcoholism','Handicap']\n",
    "fig=plt.figure(figsize=(10,10))\n",
    "for i, var in enumerate(conditions):\n",
    "    ax=fig.add_subplot(2,2,i+1)\n",
    "    sns.countplot(x='No_show',hue=var,data=df)\n",
    "    "
   ]
  },
  {
   "cell_type": "markdown",
   "metadata": {},
   "source": [
    ">#### Based on the above subplots, we can say that:\n",
    ">There are more patients with Hypertension, when compared to Diabetes,Alcoholism and Handicap.<br>"
   ]
  },
  {
   "cell_type": "code",
   "execution_count": 25,
   "metadata": {},
   "outputs": [
    {
     "name": "stdout",
     "output_type": "stream",
     "text": [
      "Out of total people having hypertension, 82.69804137424889 % of People showed up for appointment.\n"
     ]
    }
   ],
   "source": [
    "hyper_yes=(df['Hypertension']==1).value_counts()[1]\n",
    "hypertension=df[df['Hypertension']==1]['No_show'].value_counts()[0]\n",
    "print(\"Out of total people having hypertension, {} % of People showed up for appointment.\".format(calc_percent(hypertension,hyper_yes)))"
   ]
  },
  {
   "cell_type": "code",
   "execution_count": 26,
   "metadata": {},
   "outputs": [
    {
     "name": "stdout",
     "output_type": "stream",
     "text": [
      "Out of total people having Diabetes, 81.99672667757774 % of People showed up for appointment.\n"
     ]
    }
   ],
   "source": [
    "diab_yes=(df['Diabetes']==1).value_counts()[1]\n",
    "diabetes=df[df['Diabetes']==1]['No_show'].value_counts()[0]\n",
    "print(\"Out of total people having Diabetes, {} % of People showed up for appointment.\".format(calc_percent(diabetes,diab_yes)))"
   ]
  },
  {
   "cell_type": "code",
   "execution_count": 27,
   "metadata": {},
   "outputs": [
    {
     "name": "stdout",
     "output_type": "stream",
     "text": [
      "Out of total people having Alcoholism, 79.85119047619048 % of People showed up for appointment.\n"
     ]
    }
   ],
   "source": [
    "alc_yes=(df['Alcoholism']==1).value_counts()[1]\n",
    "alcoholism=df[df['Alcoholism']==1]['No_show'].value_counts()[0]\n",
    "print(\"Out of total people having Alcoholism, {} % of People showed up for appointment.\".format(calc_percent(alcoholism,alc_yes)))"
   ]
  },
  {
   "cell_type": "markdown",
   "metadata": {},
   "source": [
    "### Research Question5: How the SMS_recieved variable affect the Noshow of an appointment?"
   ]
  },
  {
   "cell_type": "code",
   "execution_count": 29,
   "metadata": {},
   "outputs": [
    {
     "name": "stdout",
     "output_type": "stream",
     "text": [
      "No. of Patients recieved SMS and showed up: 25017\n",
      "No. of Patients not recieved SMS and showed up: 60290\n"
     ]
    }
   ],
   "source": [
    "df_sms=df[df['SMS_received']==1]\n",
    "h_sms=df_sms['No_show'].value_counts()\n",
    "\n",
    "df_sms=df[df['SMS_received']==0]\n",
    "h=df_sms['No_show'].value_counts()\n",
    "\n",
    "print(\"No. of Patients recieved SMS and showed up: {}\".format(h_sms[0]))\n",
    "print(\"No. of Patients not recieved SMS and showed up: {}\".format(h[0]))"
   ]
  },
  {
   "cell_type": "code",
   "execution_count": 30,
   "metadata": {},
   "outputs": [
    {
     "name": "stdout",
     "output_type": "stream",
     "text": [
      "Percentage of people showed up for appointment with sms recieved is 72.33482723724158%\n",
      "Percentage of people showed up for appointment with no sms recieved is 83.2769313645593%\n"
     ]
    }
   ],
   "source": [
    "sms_val=df['SMS_received'].value_counts()\n",
    "sms=calc_percent(h_sms[0],sms_val[1])\n",
    "nosms=calc_percent(h[0],sms_val[0])\n",
    "print(\"Percentage of people showed up for appointment with sms recieved is {}%\".format(sms))\n",
    "print(\"Percentage of people showed up for appointment with no sms recieved is {}%\".format(nosms))"
   ]
  },
  {
   "cell_type": "code",
   "execution_count": 31,
   "metadata": {},
   "outputs": [
    {
     "data": {
      "image/png": "[encoded data removed]",
      "text/plain": [
       "<Figure size 432x288 with 1 Axes>"
      ]
     },
     "metadata": {
      "needs_background": "light"
     },
     "output_type": "display_data"
    }
   ],
   "source": [
    "sns.countplot(x='No_show',hue='SMS_received',data=df);"
   ]
  },
  {
   "cell_type": "markdown",
   "metadata": {},
   "source": [
    "> #### Based on the above graph, we can say that:\n",
    "Patients who didnot recieved SMS showed up more than the people who recieved the SMS"
   ]
  },
  {
   "cell_type": "markdown",
   "metadata": {},
   "source": [
    "### Research Question 6: How the Gender variable affect on the Noshow of an appointment?"
   ]
  },
  {
   "cell_type": "code",
   "execution_count": 107,
   "metadata": {},
   "outputs": [
    {
     "data": {
      "text/plain": [
       "F    70115\n",
       "M    36867\n",
       "Name: Gender, dtype: int64"
      ]
     },
     "execution_count": 107,
     "metadata": {},
     "output_type": "execute_result"
    }
   ],
   "source": [
    "# Total Male and Female Count\n",
    "df['Gender'].value_counts()"
   ]
  },
  {
   "cell_type": "code",
   "execution_count": 108,
   "metadata": {},
   "outputs": [
    {
     "name": "stdout",
     "output_type": "stream",
     "text": [
      "No. of Females showed up for appointment are: 55843\n",
      "No. of Females not showed up for appointment are: 14272\n"
     ]
    }
   ],
   "source": [
    "df_fem=df[df['Gender']=='F']\n",
    "val_fem=df_fem['No_show'].value_counts()\n",
    "print(\"No. of Females showed up for appointment are: {}\".format(val_fem[0]))\n",
    "print(\"No. of Females not showed up for appointment are: {}\".format(val_fem[1]))"
   ]
  },
  {
   "cell_type": "code",
   "execution_count": 109,
   "metadata": {},
   "outputs": [
    {
     "name": "stdout",
     "output_type": "stream",
     "text": [
      "No. of males showed up for appointment are: 29464\n",
      "No. of males not showed up for appointment are: 7403\n"
     ]
    }
   ],
   "source": [
    "df_m=df[df['Gender']=='M']\n",
    "val_m=df_m['No_show'].value_counts()\n",
    "print(\"No. of males showed up for appointment are: {}\".format(val_m[0]))\n",
    "print(\"No. of males not showed up for appointment are: {}\".format(val_m[1]))"
   ]
  },
  {
   "cell_type": "markdown",
   "metadata": {},
   "source": [
    "#### Visualisation of the Gender vs Noshow "
   ]
  },
  {
   "cell_type": "code",
   "execution_count": 110,
   "metadata": {},
   "outputs": [
    {
     "data": {
      "text/plain": [
       "<matplotlib.axes._subplots.AxesSubplot at 0x805ee5fb08>"
      ]
     },
     "execution_count": 110,
     "metadata": {},
     "output_type": "execute_result"
    },
    {
     "data": {
      "image/png": "[encoded data removed]",
      "text/plain": [
       "<Figure size 432x288 with 1 Axes>"
      ]
     },
     "metadata": {
      "needs_background": "light"
     },
     "output_type": "display_data"
    }
   ],
   "source": [
    "sns.countplot(x='Gender',hue='No_show',data=df);"
   ]
  },
  {
   "cell_type": "markdown",
   "metadata": {},
   "source": [
    "> #### Based on the above graph we can say that:\n",
    "Total number of feamles are more than males, but both genders showed up in same ratio."
   ]
  },
  {
   "cell_type": "markdown",
   "metadata": {},
   "source": [
    "### Research Question 7: How the variable 'Awaited_days'  affect on the Noshow for an appointment?"
   ]
  },
  {
   "cell_type": "code",
   "execution_count": 111,
   "metadata": {},
   "outputs": [
    {
     "data": {
      "text/plain": [
       "0      37154\n",
       "1       5028\n",
       "2       6636\n",
       "3       2639\n",
       "4       5212\n",
       "       ...  \n",
       "155       10\n",
       "162       11\n",
       "169        8\n",
       "176       16\n",
       "179       10\n",
       "Name: awaited_days, Length: 129, dtype: int64"
      ]
     },
     "execution_count": 111,
     "metadata": {},
     "output_type": "execute_result"
    }
   ],
   "source": [
    "# No. of days awaited for the Appointment Date from the Scheduled Date\n",
    "df['awaited_days'].value_counts().sort_index()"
   ]
  },
  {
   "cell_type": "code",
   "execution_count": 112,
   "metadata": {},
   "outputs": [
    {
     "data": {
      "image/png": "[encoded data removed]",
      "text/plain": [
       "<Figure size 1152x792 with 1 Axes>"
      ]
     },
     "metadata": {
      "needs_background": "light"
     },
     "output_type": "display_data"
    }
   ],
   "source": [
    "df_yes=df[df['No_show']=='Yes']\n",
    "df_days = df_yes[['No_show', 'awaited_days']].groupby('awaited_days').count()\n",
    "df_days.plot(kind='line', figsize=(16,11));\n",
    "plt.title(\"Time gap between scheluded and appointment day's influcence on no-shows\");\n",
    "plt.xlabel('Awaited Days between scheduling and appointment')\n",
    "plt.ylabel('Number of Patients showed up for the Appointment');"
   ]
  },
  {
   "cell_type": "markdown",
   "metadata": {},
   "source": [
    "> #### Based on the above line chart, we could see that:\n",
    "Less the number of awaiting days, more the Number of Patients show up for the appointment. <br>\n",
    "As the number of awaiting days increase beyond 40 the graph becomes consistent.\n"
   ]
  },
  {
   "cell_type": "code",
   "execution_count": null,
   "metadata": {},
   "outputs": [],
   "source": []
  }
 ],
 "metadata": {
  "kernelspec": {
   "display_name": "Python 3",
   "language": "python",
   "name": "python3"
  },
  "language_info": {
   "codemirror_mode": {
    "name": "ipython",
    "version": 3
   },
   "file_extension": ".py",
   "mimetype": "text/x-python",
   "name": "python",
   "nbconvert_exporter": "python",
   "pygments_lexer": "ipython3",
   "version": "3.7.4"
  }
 },
 "nbformat": 4,
 "nbformat_minor": 2
}
